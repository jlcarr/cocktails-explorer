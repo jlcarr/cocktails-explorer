{
 "cells": [
  {
   "cell_type": "markdown",
   "id": "b9bc4dc3",
   "metadata": {},
   "source": [
    "# Cocktails Explorer"
   ]
  },
  {
   "cell_type": "code",
   "execution_count": null,
   "id": "d20ad000",
   "metadata": {},
   "outputs": [],
   "source": [
    "import numpy as np\n",
    "import pandas as pd"
   ]
  },
  {
   "cell_type": "code",
   "execution_count": null,
   "id": "8aee0c57",
   "metadata": {},
   "outputs": [],
   "source": [
    "recipe_data = [{\"name\":\"Vesper\",\"glass\":\"martini\",\"category\":\"Before Dinner Cocktail\",\"ingredients\":[{\"unit\":\"cl\",\"amount\":6,\"ingredient\":\"Gin\"},{\"unit\":\"cl\",\"amount\":1.5,\"ingredient\":\"Vodka\"},{\"unit\":\"cl\",\"amount\":0.75,\"ingredient\":\"Lillet Blonde\"}],\"garnish\":\"Lemon twist\",\"preparation\":\"Shake and strain into a chilled cocktail glass.\"},{\"name\":\"Bacardi\",\"glass\":\"martini\",\"category\":\"Before Dinner Cocktail\",\"ingredients\":[{\"unit\":\"cl\",\"amount\":4.5,\"ingredient\":\"White rum\",\"label\":\"Bacardi White Rum\"},{\"unit\":\"cl\",\"amount\":2,\"ingredient\":\"Lime juice\"},{\"unit\":\"cl\",\"amount\":1,\"ingredient\":\"Syrup\",\"label\":\"Grenadine\"}],\"preparation\":\"Shake with ice cubes. Strain into chilled cocktail glass.\"},{\"name\":\"Negroni\",\"glass\":\"old-fashioned\",\"category\":\"Before Dinner Cocktail\",\"ingredients\":[{\"unit\":\"cl\",\"amount\":3,\"ingredient\":\"Gin\"},{\"unit\":\"cl\",\"amount\":3,\"ingredient\":\"Campari\"},{\"unit\":\"cl\",\"amount\":3,\"ingredient\":\"Vermouth\",\"label\":\"Sweet red vermouth\"}],\"garnish\":\"Half an orange slice\",\"preparation\":\"Build into old-fashioned glass filled with ice. Stir gently.\"},{\"name\":\"Rose\",\"glass\":\"martini\",\"ingredients\":[{\"unit\":\"cl\",\"amount\":2,\"ingredient\":\"Kirsch\"},{\"unit\":\"cl\",\"amount\":4,\"ingredient\":\"Vermouth\",\"label\":\"Dry vermouth\"},{\"special\":\"3 dashes Strawberry syrup\"}],\"preparation\":\"Stir all ingredients with ice and strain into a cocktail glass.\"},{\"name\":\"Old Fashioned\",\"glass\":\"old-fashioned\",\"category\":\"Before Dinner Cocktail\",\"ingredients\":[{\"unit\":\"cl\",\"amount\":4.5,\"ingredient\":\"Whiskey\",\"label\":\"Bourbon or rye whiskey\"},{\"special\":\"2 dashes Angostura Bitters\"},{\"special\":\"1 sugar cube\"},{\"special\":\"Few dashes plain water\"}],\"garnish\":\"Orange slice and cherry\",\"preparation\":\"Place sugar cube in old-fashioned glass and saturate with bitters, add a dash of plain water. Muddle until dissolve. Fill the glass with ice cubes and add whisky.\"},{\"name\":\"Tuxedo\",\"glass\":\"martini\",\"category\":\"All Day Cocktail\",\"ingredients\":[{\"unit\":\"cl\",\"amount\":3,\"ingredient\":\"Gin\",\"label\":\"Old Tom Gin\"},{\"unit\":\"cl\",\"amount\":3,\"ingredient\":\"Vermouth\",\"label\":\"Dry vermouth\"},{\"special\":\"1/2 bar spoon Maraschino\"},{\"special\":\"1/4 bar spoon Absinthe\"},{\"special\":\"3 dashes Orange Bitters\"}],\"garnish\":\"Cherry and lemon twist\",\"preparation\":\"Stir all ingredients with ice and strain into cocktail glass.\"},{\"name\":\"Mojito\",\"glass\":\"collins\",\"category\":\"Longdrink\",\"ingredients\":[{\"unit\":\"cl\",\"amount\":4,\"ingredient\":\"White rum\",\"label\":\"White Cuban Rum\"},{\"unit\":\"cl\",\"amount\":3,\"ingredient\":\"Lime juice\"},{\"special\":\"6 Mint sprigs\"},{\"special\":\"2 teaspoons white sugar\"},{\"special\":\"Soda water\"}],\"garnish\":\"Mint leaves and lemon slice\",\"preparation\":\"Muddle mint sprigs with sugar and lime juice. Add splash of soda water and fill glass with cracked ice. Pour rum and top with soda water. Serve with straw.\"},{\"name\":\"Horse's Neck\",\"glass\":\"highball\",\"category\":\"Longdrink\",\"ingredients\":[{\"unit\":\"cl\",\"amount\":4,\"ingredient\":\"Cognac\"},{\"unit\":\"cl\",\"amount\":12,\"ingredient\":\"Ginger Ale\"},{\"special\":\"Dash of Angostura bitters (optional)\"}],\"garnish\":\"Lemon twist\",\"preparation\":\"Build into highball glass with ice cubes. Stir gently. If required, add dashes of Angostura bitters.\"},{\"name\":\"Planter's Punch\",\"glass\":\"highball\",\"category\":\"Longdrink\",\"ingredients\":[{\"unit\":\"cl\",\"amount\":4.5,\"ingredient\":\"Dark rum\"},{\"unit\":\"cl\",\"amount\":3.5,\"ingredient\":\"Orange juice\"},{\"unit\":\"cl\",\"amount\":3.5,\"ingredient\":\"Pineapple juice\"},{\"unit\":\"cl\",\"amount\":2,\"ingredient\":\"Lemon juice\"},{\"unit\":\"cl\",\"amount\":1,\"ingredient\":\"Syrup\",\"label\":\"Grenadine\"},{\"unit\":\"cl\",\"amount\":1,\"ingredient\":\"Syrup\",\"label\":\"Sugar syrup\"},{\"special\":\"3 to 4 dashes Angostura bitters\"}],\"garnish\":\"Pineapple slice and a cherry\",\"preparation\":\"Pour all ingredients, except the bitters, into shaker filled with ice. Shake. Pour into large glass, filled with ice. Add Angostura bitters, “on top”.\"},{\"name\":\"Sea Breeze\",\"glass\":\"highball\",\"category\":\"Longdrink\",\"ingredients\":[{\"unit\":\"cl\",\"amount\":4,\"ingredient\":\"Vodka\"},{\"unit\":\"cl\",\"amount\":12,\"ingredient\":\"Cranberry juice\"},{\"unit\":\"cl\",\"amount\":3,\"ingredient\":\"Grapefruit juice\"}],\"garnish\":\"Lime wedge\",\"preparation\":\"Build all ingredients in a rock glass filled with ice.\"},{\"name\":\"Pisco Sour\",\"glass\":\"old-fashioned\",\"category\":\"All Day Cocktail\",\"ingredients\":[{\"unit\":\"cl\",\"amount\":4.5,\"ingredient\":\"Pisco\"},{\"unit\":\"cl\",\"amount\":3,\"ingredient\":\"Lemon juice\"},{\"unit\":\"cl\",\"amount\":2,\"ingredient\":\"Syrup\",\"label\":\"Sugar syrup\"},{\"special\":\"1 raw egg white (small egg)\"}],\"preparation\":\"Shake and strain into a chilled champagne flute. Dash some Angostura bitters on top.\"},{\"name\":\"Long Island Iced Tea\",\"glass\":\"highball\",\"category\":\"Longdrink\",\"ingredients\":[{\"unit\":\"cl\",\"amount\":1.5,\"ingredient\":\"Tequila\"},{\"unit\":\"cl\",\"amount\":1.5,\"ingredient\":\"Vodka\"},{\"unit\":\"cl\",\"amount\":1.5,\"ingredient\":\"White rum\"},{\"unit\":\"cl\",\"amount\":1.5,\"ingredient\":\"Triple Sec\"},{\"unit\":\"cl\",\"amount\":1.5,\"ingredient\":\"Gin\"},{\"unit\":\"cl\",\"amount\":2.5,\"ingredient\":\"Lemon juice\"},{\"unit\":\"cl\",\"amount\":3,\"ingredient\":\"Syrup\",\"label\":\"Gomme syrup\"},{\"special\":\"1 dash of Cola\"}],\"garnish\":\"Lemon twist\",\"preparation\":\"Add all ingredients into highball glass filled with ice. Stir gently. Serve with straw.\"},{\"name\":\"Clover Club\",\"glass\":\"martini\",\"category\":\"All Day Cocktail\",\"ingredients\":[{\"unit\":\"cl\",\"amount\":4.5,\"ingredient\":\"Gin\"},{\"unit\":\"cl\",\"amount\":1.5,\"ingredient\":\"Syrup\",\"label\":\"Raspberry syrup\"},{\"unit\":\"cl\",\"amount\":1.5,\"ingredient\":\"Lemon juice\"},{\"special\":\"Few drops of Egg White\"}],\"preparation\":\"Shake with ice cubes. Strain into cocktail glass.\"},{\"name\":\"Angel Face\",\"glass\":\"martini\",\"category\":\"All Day Cocktail\",\"ingredients\":[{\"unit\":\"cl\",\"amount\":3,\"ingredient\":\"Gin\"},{\"unit\":\"cl\",\"amount\":3,\"ingredient\":\"Apricot brandy\"},{\"unit\":\"cl\",\"amount\":3,\"ingredient\":\"Calvados\"}],\"preparation\":\"Shake with ice cubes. Strain into a cocktail glass.\"},{\"name\":\"Mimosa\",\"glass\":\"champagne-flute\",\"category\":\"Sparkling Cocktail\",\"ingredients\":[{\"unit\":\"cl\",\"amount\":7.5,\"ingredient\":\"Champagne\"},{\"unit\":\"cl\",\"amount\":7.5,\"ingredient\":\"Orange juice\"}],\"garnish\":\"Optional orange twist\",\"preparation\":\"Pour orange juice into flute and gently pour Champagne. Stir gently. Note: Buck's Fizz is a very similar cocktail but made of two parts champagne to one part orange juice.\"},{\"name\":\"Whiskey Sour\",\"glass\":\"old-fashioned\",\"category\":\"Before Dinner Cocktail\",\"ingredients\":[{\"unit\":\"cl\",\"amount\":4.5,\"ingredient\":\"Whiskey\",\"label\":\"Bourbon whiskey\"},{\"unit\":\"cl\",\"amount\":3,\"ingredient\":\"Lemon juice\"},{\"unit\":\"cl\",\"amount\":1.5,\"ingredient\":\"Syrup\",\"label\":\"Sugar syrup\"}],\"garnish\":\"Half an orange slice and cherry\",\"preparation\":\"Dash egg white (Optional: if used shake little harder to foam up the egg white). Pour all ingredients into cocktail shaker filled with ice. Shake. Strain into cocktail glass. If served ‘On the rocks’, strain ingredients into old-fashioned glass filled with ice.\"},{\"name\":\"Screwdriver\",\"glass\":\"highball\",\"category\":\"All Day Cocktail\",\"ingredients\":[{\"unit\":\"cl\",\"amount\":5,\"ingredient\":\"Vodka\"},{\"unit\":\"cl\",\"amount\":10,\"ingredient\":\"Orange juice\"}],\"garnish\":\"Orange slice\",\"preparation\":\"Build into a highball glass filled with ice. Stir gently.\"},{\"name\":\"Cuba Libre\",\"glass\":\"highball\",\"category\":\"Longdrink\",\"ingredients\":[{\"unit\":\"cl\",\"amount\":5,\"ingredient\":\"White rum\"},{\"unit\":\"cl\",\"amount\":12,\"ingredient\":\"Cola\"},{\"unit\":\"cl\",\"amount\":1,\"ingredient\":\"Lime juice\"}],\"garnish\":\"Lime wedge\",\"preparation\":\"Build all ingredients in a highball glass filled with ice.\"},{\"name\":\"Manhattan\",\"glass\":\"martini\",\"category\":\"Before Dinner Cocktail\",\"ingredients\":[{\"unit\":\"cl\",\"amount\":5,\"ingredient\":\"Whiskey\",\"label\":\"Rye whiskey\"},{\"unit\":\"cl\",\"amount\":2,\"ingredient\":\"Vermouth\",\"label\":\"Red vermouth\"},{\"special\":\"1 dash Angostura Bitters\"}],\"garnish\":\"Cherry\",\"preparation\":\"Stir in mixing glass with ice cubes. Strain into chilled cocktail glass.\"},{\"name\":\"Porto Flip\",\"glass\":\"martini\",\"category\":\"After Dinner Cocktail\",\"ingredients\":[{\"unit\":\"cl\",\"amount\":1.5,\"ingredient\":\"Cognac\"},{\"unit\":\"cl\",\"amount\":4.5,\"ingredient\":\"Red Port\"},{\"unit\":\"cl\",\"amount\":1,\"ingredient\":\"Egg yolk\"}],\"preparation\":\"Shake with ice cubes. Strain into cocktail glass. Sprinkle with fresh ground nutmeg.\"},{\"name\":\"Gin Fizz\",\"glass\":\"highball\",\"category\":\"Longdrink\",\"ingredients\":[{\"unit\":\"cl\",\"amount\":4.5,\"ingredient\":\"Gin\"},{\"unit\":\"cl\",\"amount\":3,\"ingredient\":\"Lemon juice\"},{\"unit\":\"cl\",\"amount\":1,\"ingredient\":\"Syrup\",\"label\":\"Sugar syrup\"},{\"unit\":\"cl\",\"amount\":8,\"ingredient\":\"Soda water\"}],\"garnish\":\"Lemon slice\",\"preparation\":\"Shake all ingredients with ice cubes, except soda water. Pour into tumbler. Top with soda water.\"},{\"name\":\"Espresso Martini\",\"glass\":\"martini\",\"category\":\"After Dinner Cocktail\",\"ingredients\":[{\"unit\":\"cl\",\"amount\":5,\"ingredient\":\"Vodka\"},{\"unit\":\"cl\",\"amount\":1,\"ingredient\":\"Coffee liqueur\",\"label\":\"Kahlúa\"},{\"special\":\"Sugar syrup (according to individual preference of sweetness)\"},{\"special\":\"1 short strong Espresso\"}],\"preparation\":\"Shake and strain into a chilled cocktail glass.\"},{\"name\":\"Margarita\",\"glass\":\"margarita\",\"category\":\"All Day Cocktail\",\"ingredients\":[{\"unit\":\"cl\",\"amount\":3.5,\"ingredient\":\"Tequila\"},{\"unit\":\"cl\",\"amount\":2,\"ingredient\":\"Triple Sec\",\"label\":\"Cointreau\"},{\"unit\":\"cl\",\"amount\":1.5,\"ingredient\":\"Lime juice\"}],\"preparation\":\"Shake with ice cubes. Strain into cocktail glass rimmed with salt (note:Fruit Margarita - blend selected fruit with the above recipe).\"},{\"name\":\"French 75\",\"glass\":\"champagne-tulip\",\"category\":\"Sparkling Cocktail\",\"ingredients\":[{\"unit\":\"cl\",\"amount\":3,\"ingredient\":\"Gin\"},{\"unit\":\"cl\",\"amount\":1.5,\"ingredient\":\"Lemon juice\"},{\"special\":\"2 dashes Sugar syrup\"},{\"unit\":\"cl\",\"amount\":6,\"ingredient\":\"Champagne\"}],\"preparation\":\"Shake with ice cubes, except for champagne. Strain into a champagne flute. Top up with champagne. Stir gently.\"},{\"name\":\"Yellow Bird\",\"glass\":\"martini\",\"category\":\"All Day Cocktail\",\"ingredients\":[{\"unit\":\"cl\",\"amount\":3,\"ingredient\":\"White rum\"},{\"unit\":\"cl\",\"amount\":1.5,\"ingredient\":\"Galliano\"},{\"unit\":\"cl\",\"amount\":1.5,\"ingredient\":\"Triple Sec\"},{\"unit\":\"cl\",\"amount\":1.5,\"ingredient\":\"Lime juice\"}],\"preparation\":\"Shake and strain into a chilled cocktail glass.\"},{\"name\":\"Pina Colada\",\"glass\":\"hurricane\",\"category\":\"Longdrink\",\"ingredients\":[{\"unit\":\"cl\",\"amount\":3,\"ingredient\":\"White rum\"},{\"unit\":\"cl\",\"amount\":9,\"ingredient\":\"Pineapple juice\"},{\"unit\":\"cl\",\"amount\":3,\"ingredient\":\"Coconut milk\"}],\"garnish\":\"Pineapple slice and a cherry\",\"preparation\":\"Blend all the ingredients with ice in a electric blender, pour into a large goblet or Hurricane glass and serve with straws.\"},{\"name\":\"Aviation\",\"glass\":\"martini\",\"category\":\"All Day Cocktail\",\"ingredients\":[{\"unit\":\"cl\",\"amount\":4.5,\"ingredient\":\"Gin\"},{\"unit\":\"cl\",\"amount\":1.5,\"ingredient\":\"Cherry liqueur\",\"label\":\"Maraschino\"},{\"unit\":\"cl\",\"amount\":1.5,\"ingredient\":\"Lemon juice\"}],\"preparation\":\"Shake and strain into a chilled cocktail glass.\"},{\"name\":\"Bellini\",\"glass\":\"champagne-flute\",\"category\":\"Sparkling Cocktail\",\"ingredients\":[{\"unit\":\"cl\",\"amount\":10,\"ingredient\":\"Prosecco\"},{\"unit\":\"cl\",\"amount\":5,\"ingredient\":\"Peach puree\"}],\"preparation\":\"Pour peach puree into chilled glass and add sparkling wine. Stir gently. Variations: Puccini (fresh mandarin juice), Rossini (fresh strawberry puree), Tintoretto (fresh pomegranate juice)\"},{\"name\":\"Grasshopper\",\"glass\":\"martini\",\"category\":\"After Dinner Cocktail\",\"ingredients\":[{\"unit\":\"cl\",\"amount\":3,\"ingredient\":\"Créme liqueur\",\"label\":\"White Créme de Cacao\"},{\"unit\":\"cl\",\"amount\":3,\"ingredient\":\"Créme liqueur\",\"label\":\"Green Créme de Menthe\"},{\"unit\":\"cl\",\"amount\":3,\"ingredient\":\"Cream\"}],\"preparation\":\"Shake with ice cubes. Strain into chilled cocktail glass.\"},{\"name\":\"Tequila Sunrise\",\"glass\":\"highball\",\"category\":\"Longdrink\",\"ingredients\":[{\"unit\":\"cl\",\"amount\":4.5,\"ingredient\":\"Tequila\"},{\"unit\":\"cl\",\"amount\":9,\"ingredient\":\"Orange juice\"},{\"unit\":\"cl\",\"amount\":1.5,\"ingredient\":\"Syrup\",\"label\":\"Grenadine\"}],\"garnish\":\"Orange slice and a cherry\",\"preparation\":\"Build tequila and orange juice into highball with ice cubes. Add a splash of grenadine to create sunrise effect. Do not stir.\"},{\"name\":\"Daiquiri\",\"glass\":\"martini\",\"category\":\"Before Dinner Cocktail\",\"ingredients\":[{\"unit\":\"cl\",\"amount\":4.5,\"ingredient\":\"White rum\"},{\"unit\":\"cl\",\"amount\":2.5,\"ingredient\":\"Lime juice\"},{\"unit\":\"cl\",\"amount\":1.5,\"ingredient\":\"Syrup\",\"label\":\"Simple syrup\"}],\"preparation\":\"Shake and strain into a cocktail glass.\"},{\"name\":\"Rusty Nail\",\"glass\":\"old-fashioned\",\"category\":\"After Dinner Cocktail\",\"ingredients\":[{\"unit\":\"cl\",\"amount\":4.5,\"ingredient\":\"Whiskey\",\"label\":\"Scotch whisky\"},{\"unit\":\"cl\",\"amount\":2.5,\"ingredient\":\"Drambuie\"}],\"garnish\":\"Lemon twist\",\"preparation\":\"Build into old-fashioned glass filled with ice. Stir gently.\"},{\"name\":\"B52\",\"glass\":\"shot\",\"category\":\"After Dinner Cocktail\",\"ingredients\":[{\"unit\":\"cl\",\"amount\":2,\"ingredient\":\"Coffee liqueur\",\"label\":\"Kahlúa\"},{\"unit\":\"cl\",\"amount\":2,\"ingredient\":\"Cream liqueur\",\"label\":\"Baileys Irish Cream\"},{\"unit\":\"cl\",\"amount\":2,\"ingredient\":\"Triple Sec\",\"label\":\"Grand Marnier\"}],\"preparation\":\"Layer ingredients one at a time starting with Kahlúa, followed by Baileys Irish Cream and top with Grand Marnier. Flame the Grand Marnier, serve while the flame is still on, accompanied with a straw on side plate.\"},{\"name\":\"Stinger\",\"glass\":\"martini\",\"category\":\"After Dinner Cocktail\",\"ingredients\":[{\"unit\":\"cl\",\"amount\":5,\"ingredient\":\"Cognac\"},{\"unit\":\"cl\",\"amount\":2,\"ingredient\":\"Créme liqueur\",\"label\":\"White Créme de Menthe\"}],\"preparation\":\"Stir in mixing glass with ice cubes. Strain into a cocktail glass.\"},{\"name\":\"Golden Dream\",\"glass\":\"martini\",\"category\":\"After Dinner Cocktail\",\"ingredients\":[{\"unit\":\"cl\",\"amount\":2,\"ingredient\":\"Galliano\"},{\"unit\":\"cl\",\"amount\":2,\"ingredient\":\"Triple Sec\"},{\"unit\":\"cl\",\"amount\":2,\"ingredient\":\"Orange juice\"},{\"unit\":\"cl\",\"amount\":1,\"ingredient\":\"Cream\"}],\"preparation\":\"Shake with ice cubes. Strain into chilled cocktail glass.\"},{\"name\":\"God Mother\",\"glass\":\"old-fashioned\",\"ingredients\":[{\"unit\":\"cl\",\"amount\":3.5,\"ingredient\":\"Vodka\"},{\"unit\":\"cl\",\"amount\":3.5,\"ingredient\":\"DiSaronno\"}],\"preparation\":\"Build into old fashioned glass filled with ice cubes. Stir gently.\"},{\"name\":\"Spritz Veneziano\",\"glass\":\"old-fashioned\",\"category\":\"Sparkling Cocktail\",\"ingredients\":[{\"unit\":\"cl\",\"amount\":6,\"ingredient\":\"Prosecco\"},{\"unit\":\"cl\",\"amount\":4,\"ingredient\":\"Aperol\"},{\"special\":\"Splash of Soda water\"}],\"garnish\":\"Half an orange slice\",\"preparation\":\"Build into an old-fashioned glass filled with ice. Top with a splash of soda water.\"},{\"name\":\"Bramble\",\"glass\":\"old-fashioned\",\"category\":\"All Day Cocktail\",\"ingredients\":[{\"unit\":\"cl\",\"amount\":4,\"ingredient\":\"Gin\"},{\"unit\":\"cl\",\"amount\":1.5,\"ingredient\":\"Lemon juice\"},{\"unit\":\"cl\",\"amount\":1,\"ingredient\":\"Syrup\",\"label\":\"Sugar syrup\"},{\"unit\":\"cl\",\"amount\":1.5,\"ingredient\":\"Blackberry liqueur\"}],\"garnish\":\"Lemon slice and two blackberries\",\"preparation\":\"Build over crushed ice, in a rock glass. Stir, then pour the blackberry liqueur over the top of the drink in a circular fashion.\"},{\"name\":\"Alexander\",\"glass\":\"martini\",\"ingredients\":[{\"unit\":\"cl\",\"amount\":3,\"ingredient\":\"Cognac\"},{\"unit\":\"cl\",\"amount\":3,\"ingredient\":\"Créme liqueur\",\"label\":\"Brown Créme de Cacao\"},{\"unit\":\"cl\",\"amount\":3,\"ingredient\":\"Cream\"}],\"preparation\":\"Shake and strain into a chilled cocktail glass. Sprinkle with fresh ground nutmeg.\"},{\"name\":\"Lemon Drop Martini\",\"glass\":\"martini\",\"category\":\"All Day Cocktail\",\"ingredients\":[{\"unit\":\"cl\",\"amount\":2.5,\"ingredient\":\"Vodka\",\"label\":\"Citron Vodka\"},{\"unit\":\"cl\",\"amount\":2,\"ingredient\":\"Triple Sec\"},{\"unit\":\"cl\",\"amount\":1.5,\"ingredient\":\"Lemon juice\"}],\"garnish\":\"Lemon slice\",\"preparation\":\"Shake and strain into a chilled cocktail glass rimmed with sugar.\"},{\"name\":\"French Martini\",\"glass\":\"martini\",\"category\":\"Before Dinner Cocktail\",\"ingredients\":[{\"unit\":\"cl\",\"amount\":4.5,\"ingredient\":\"Vodka\"},{\"unit\":\"cl\",\"amount\":1.5,\"ingredient\":\"Raspberry liqueur\"},{\"unit\":\"cl\",\"amount\":1.5,\"ingredient\":\"Pineapple juice\"}],\"preparation\":\"Stir in mixing glass with ice cubes. Strain into chilled cocktail glass. Squeeze oil from lemon peel onto the drink.\"},{\"name\":\"Black Russian\",\"glass\":\"old-fashioned\",\"category\":\"After Dinner Cocktail\",\"ingredients\":[{\"unit\":\"cl\",\"amount\":5,\"ingredient\":\"Vodka\"},{\"unit\":\"cl\",\"amount\":2,\"ingredient\":\"Coffee liqueur\"}],\"preparation\":\"Build into old fashioned glass filled with ice cubes. Stir gently. Note: for White Russian, float fresh cream on the top and stir gently.\"},{\"name\":\"Bloody Mary\",\"glass\":\"highball\",\"category\":\"Longdrink\",\"ingredients\":[{\"unit\":\"cl\",\"amount\":4.5,\"ingredient\":\"Vodka\"},{\"unit\":\"cl\",\"amount\":9,\"ingredient\":\"Tomato juice\"},{\"unit\":\"cl\",\"amount\":1.5,\"ingredient\":\"Lemon juice\"},{\"special\":\"2 to 3 dashes of Worcestershire Sauce\"},{\"special\":\"Tabasco\"},{\"special\":\"Celery salt\"},{\"special\":\"Pepper\"}],\"garnish\":\"Celery and optionally lemon wedge\",\"preparation\":\"Stir gently, pour all ingredients into highball glass.\"},{\"name\":\"Mai-tai\",\"glass\":\"highball\",\"category\":\"Longdrink\",\"ingredients\":[{\"unit\":\"cl\",\"amount\":4,\"ingredient\":\"White rum\"},{\"unit\":\"cl\",\"amount\":2,\"ingredient\":\"Dark rum\"},{\"unit\":\"cl\",\"amount\":1.5,\"ingredient\":\"Triple Sec\",\"label\":\"Orange Curaçao\"},{\"unit\":\"cl\",\"amount\":1.5,\"ingredient\":\"Syrup\",\"label\":\"Orgeat syrup\"},{\"unit\":\"cl\",\"amount\":1,\"ingredient\":\"Lime juice\"}],\"garnish\":\"Pineapple spear, mint leaves and lime wedge\",\"preparation\":\"Shake and strain into highball glass. Serve with straw.\"},{\"name\":\"Barracuda\",\"glass\":\"margarita\",\"category\":\"Sparkling Cocktail\",\"ingredients\":[{\"unit\":\"cl\",\"amount\":4.5,\"ingredient\":\"Dark rum\",\"label\":\"Gold rum\"},{\"unit\":\"cl\",\"amount\":1.5,\"ingredient\":\"Galliano\"},{\"unit\":\"cl\",\"amount\":6,\"ingredient\":\"Pineapple juice\"},{\"special\":\"1 dash Lime juice\"},{\"special\":\"Top with Prosecco\"}]},{\"name\":\"Sex on the Beach\",\"glass\":\"highball\",\"category\":\"Longdrink\",\"ingredients\":[{\"unit\":\"cl\",\"amount\":4,\"ingredient\":\"Vodka\"},{\"unit\":\"cl\",\"amount\":2,\"ingredient\":\"Peach schnapps\"},{\"unit\":\"cl\",\"amount\":4,\"ingredient\":\"Cranberry juice\"},{\"unit\":\"cl\",\"amount\":4,\"ingredient\":\"Orange juice\"}],\"garnish\":\"Orange slice\",\"preparation\":\"Build all ingredients in a highball glass filled with ice.\"},{\"name\":\"Monkey Gland\",\"glass\":\"martini\",\"category\":\"All Day Cocktail\",\"ingredients\":[{\"unit\":\"cl\",\"amount\":5,\"ingredient\":\"Gin\"},{\"unit\":\"cl\",\"amount\":3,\"ingredient\":\"Orange juice\"},{\"special\":\"2 drops Absinthe\"},{\"special\":\"2 drops Grenadine\"}],\"preparation\":\"Shake and strain into a chilled cocktail glass.\"},{\"name\":\"Derby\",\"glass\":\"martini\",\"category\":\"All Day Cocktail\",\"ingredients\":[{\"unit\":\"cl\",\"amount\":6,\"ingredient\":\"Gin\"},{\"special\":\"2 drops Peach Bitters\"},{\"special\":\"2 Fresh mint leaves\"}],\"garnish\":\"Mint leaves\",\"preparation\":\"Stir in mixing glass with ice cubes. Strain into a cocktail glass.\"},{\"name\":\"Sidecar\",\"glass\":\"martini\",\"category\":\"All Day Cocktail\",\"ingredients\":[{\"unit\":\"cl\",\"amount\":5,\"ingredient\":\"Cognac\"},{\"unit\":\"cl\",\"amount\":2,\"ingredient\":\"Triple Sec\"},{\"unit\":\"cl\",\"amount\":2,\"ingredient\":\"Lemon juice\"}],\"preparation\":\"Shake with ice cubes. Strain into cocktail glass.\"},{\"name\":\"Irish Coffee\",\"glass\":\"hot-drink\",\"category\":\"Hot Drink\",\"ingredients\":[{\"unit\":\"cl\",\"amount\":4,\"ingredient\":\"Whiskey\",\"label\":\"Irish whiskey\"},{\"unit\":\"cl\",\"amount\":9,\"ingredient\":\"Hot coffee\"},{\"unit\":\"cl\",\"amount\":3,\"ingredient\":\"Cream\"},{\"special\":\"1 teaspoon of brown sugar\"}],\"preparation\":\"Warm the Irish whiskey over a burner. Pour into the glass (for hot drink) hot coffee, and add a teaspoon of sugar. Float Cream on top.\"},{\"name\":\"Sazerac\",\"glass\":\"old-fashioned\",\"category\":\"After Dinner Cocktail\",\"ingredients\":[{\"unit\":\"cl\",\"amount\":5,\"ingredient\":\"Cognac\"},{\"unit\":\"cl\",\"amount\":1,\"ingredient\":\"Absinthe\"},{\"special\":\"1 sugar cube\"},{\"special\":\"2 dashes Peychaud’s bitters\"}],\"garnish\":\"Lemon twist\",\"preparation\":\"Rinse a chilled old-fashioned glass with the absinthe, add crushed ice and set it aside. Stir the remaining ingredients over ice and set it aside. Discard the ice and any excess absinthe from the prepared glass, and strain the drink into the glass. Note: The original recipe changed after the American Civil War, rye whiskey substituted cognac as it became hard to obtain.\"},{\"name\":\"Americano\",\"glass\":\"old-fashioned\",\"category\":\"Before Dinner Cocktail\",\"ingredients\":[{\"unit\":\"cl\",\"amount\":3,\"ingredient\":\"Campari\"},{\"unit\":\"cl\",\"amount\":3,\"ingredient\":\"Vermouth\",\"label\":\"Red vermouth\"},{\"special\":\"A splash of soda water\"}],\"garnish\":\"Half an orange slice\",\"preparation\":\"Build into old fashioned glass filled with ice cubes. Add a splash of soda water.\"},{\"name\":\"Singapore Sling\",\"glass\":\"highball\",\"category\":\"Longdrink\",\"ingredients\":[{\"unit\":\"cl\",\"amount\":3,\"ingredient\":\"Gin\"},{\"unit\":\"cl\",\"amount\":1.5,\"ingredient\":\"Cherry liqueur\"},{\"unit\":\"cl\",\"amount\":0.75,\"ingredient\":\"Triple Sec\",\"label\":\"Cointreau\"},{\"unit\":\"cl\",\"amount\":0.75,\"ingredient\":\"DOM Bénédictine\"},{\"unit\":\"cl\",\"amount\":12,\"ingredient\":\"Pineapple juice\"},{\"unit\":\"cl\",\"amount\":1.5,\"ingredient\":\"Lime juice\"},{\"unit\":\"cl\",\"amount\":1,\"ingredient\":\"Syrup\",\"label\":\"Grenadine\"},{\"special\":\"1 dash Angostura bitters\"}],\"garnish\":\"Pineapple slice and a cherry\",\"preparation\":\"Shake with ice cubes. Strain into highball glass.\"},{\"name\":\"French Connection\",\"glass\":\"old-fashioned\",\"ingredients\":[{\"unit\":\"cl\",\"amount\":3.5,\"ingredient\":\"Cognac\"},{\"unit\":\"cl\",\"amount\":3.5,\"ingredient\":\"DiSaronno\"}],\"preparation\":\"Build into old fashioned glass filled with ice cubes. Stir gently.\"},{\"name\":\"Moscow Mule\",\"glass\":\"highball\",\"category\":\"Longdrink\",\"ingredients\":[{\"unit\":\"cl\",\"amount\":4.5,\"ingredient\":\"Vodka\"},{\"unit\":\"cl\",\"amount\":12,\"ingredient\":\"Ginger beer\"},{\"unit\":\"cl\",\"amount\":0.5,\"ingredient\":\"Lime juice\"},{\"special\":\"1 slice lime in a highball glass\"}],\"garnish\":\"Lime slice\",\"preparation\":\"Combine the vodka and ginger beer. Add lime juice.\"},{\"name\":\"John Collins\",\"glass\":\"highball\",\"category\":\"Longdrink\",\"ingredients\":[{\"unit\":\"cl\",\"amount\":4.5,\"ingredient\":\"Gin\"},{\"unit\":\"cl\",\"amount\":3,\"ingredient\":\"Lemon juice\"},{\"unit\":\"cl\",\"amount\":1.5,\"ingredient\":\"Syrup\",\"label\":\"Sugar syrup\"},{\"unit\":\"cl\",\"amount\":6,\"ingredient\":\"Soda water\"}],\"garnish\":\"Lemon slice and a cherry\",\"preparation\":\"Build into highball glass filled with ice. Stir gently. Add a dash of Angostura bitters. (Note: Use Old Tom Gin for Tom Collins)\"},{\"name\":\"Kir\",\"glass\":\"white-wine\",\"category\":\"Before Dinner Cocktail\",\"ingredients\":[{\"unit\":\"cl\",\"amount\":9,\"ingredient\":\"Dry White Wine\"},{\"unit\":\"cl\",\"amount\":1,\"ingredient\":\"Créme liqueur\",\"label\":\"Créme de Cassis\"}],\"preparation\":\"Pour Créme de Cassis into glass, top up with white wine. For Kir Royal: Use champagne instead of white wine.\"},{\"name\":\"Mint Julep\",\"glass\":\"highball\",\"category\":\"Longdrink\",\"ingredients\":[{\"unit\":\"cl\",\"amount\":6,\"ingredient\":\"Whiskey\",\"label\":\"Bourbon whiskey\"},{\"special\":\"4 fresh mint sprigs\"},{\"special\":\"1 teaspoon powdered sugar\"},{\"special\":\"2 teaspoons water\"}],\"garnish\":\"Mint sprig\",\"preparation\":\"In a highball glass gently muddle the mint, sugar and water. Fill the glass with cracked ice, add Bourbon and stir well until the glass is frost.\"},{\"name\":\"Tommy's Margarita\",\"glass\":\"martini\",\"category\":\"All Day Cocktail\",\"ingredients\":[{\"unit\":\"cl\",\"amount\":4.5,\"ingredient\":\"Tequila\"},{\"unit\":\"cl\",\"amount\":1.5,\"ingredient\":\"Lime juice\"},{\"special\":\"2 bar spoons of Agave nectar\"}],\"preparation\":\"Shake and strain into a chilled cocktail glass.\"},{\"name\":\"Paradise\",\"glass\":\"martini\",\"category\":\"All Day Cocktail\",\"ingredients\":[{\"unit\":\"cl\",\"amount\":3.5,\"ingredient\":\"Gin\"},{\"unit\":\"cl\",\"amount\":2,\"ingredient\":\"Apricot brandy\"},{\"unit\":\"cl\",\"amount\":1.5,\"ingredient\":\"Orange juice\"}],\"preparation\":\"Shake with ice cubes. Strain into chilled cocktail glass.\"},{\"name\":\"Dirty Martini\",\"glass\":\"martini\",\"category\":\"Before Dinner Cocktail\",\"ingredients\":[{\"unit\":\"cl\",\"amount\":6,\"ingredient\":\"Vodka\"},{\"unit\":\"cl\",\"amount\":1,\"ingredient\":\"Vermouth\",\"label\":\"Dry vermouth\"},{\"unit\":\"cl\",\"amount\":1,\"ingredient\":\"Olive juice\"}],\"garnish\":\"Green olive\",\"preparation\":\"Stir in mixing glass with ice cubes. Strain into chilled martini glass.\"},{\"name\":\"Champagne Cocktail\",\"glass\":\"champagne-flute\",\"category\":\"Sparkling Cocktail\",\"ingredients\":[{\"unit\":\"cl\",\"amount\":9,\"ingredient\":\"Champagne\"},{\"unit\":\"cl\",\"amount\":1,\"ingredient\":\"Cognac\"},{\"special\":\"2 dashes Angostura Bitters\"},{\"special\":\"1 sugar cube\"}],\"garnish\":\"Orange slice and a cherry\",\"preparation\":\"Add dash of Angostura bitter onto sugar cube and drop it into champagne flute. Add cognac followed by pouring gently chilled champagne.\"},{\"name\":\"Mary Pickford\",\"glass\":\"martini\",\"category\":\"All Day Cocktail\",\"ingredients\":[{\"unit\":\"cl\",\"amount\":6,\"ingredient\":\"White rum\"},{\"unit\":\"cl\",\"amount\":1,\"ingredient\":\"Cherry liqueur\",\"label\":\"Maraschino\"},{\"unit\":\"cl\",\"amount\":6,\"ingredient\":\"Pineapple juice\"},{\"unit\":\"cl\",\"amount\":1,\"ingredient\":\"Syrup\",\"label\":\"Grenadine\"}],\"preparation\":\"Shake and strain into a chilled large cocktail glass.\"},{\"name\":\"Hemingway Special\",\"glass\":\"martini\",\"category\":\"All Day Cocktail\",\"ingredients\":[{\"unit\":\"cl\",\"amount\":6,\"ingredient\":\"White rum\"},{\"unit\":\"cl\",\"amount\":4,\"ingredient\":\"Grapefruit juice\"},{\"unit\":\"cl\",\"amount\":1.5,\"ingredient\":\"Cherry liqueur\",\"label\":\"Maraschino\"},{\"unit\":\"cl\",\"amount\":1.5,\"ingredient\":\"Lime juice\"}],\"preparation\":\"Shake with ice cubes. Strain into a double cocktail glass.\"},{\"name\":\"Dark 'n' Stormy\",\"glass\":\"highball\",\"category\":\"Longdrink\",\"ingredients\":[{\"unit\":\"cl\",\"amount\":6,\"ingredient\":\"Dark rum\"},{\"unit\":\"cl\",\"amount\":10,\"ingredient\":\"Ginger beer\"}],\"garnish\":\"Lime wedge\",\"preparation\":\"Build into highball glass filled with ice. Add rum first and top it with ginger beer.\"},{\"name\":\"Ramos Fizz\",\"glass\":\"highball\",\"category\":\"Longdrink\",\"ingredients\":[{\"unit\":\"cl\",\"amount\":4.5,\"ingredient\":\"Gin\"},{\"unit\":\"cl\",\"amount\":1.5,\"ingredient\":\"Lime juice\"},{\"unit\":\"cl\",\"amount\":1.5,\"ingredient\":\"Lemon juice\"},{\"unit\":\"cl\",\"amount\":3,\"ingredient\":\"Syrup\",\"label\":\"Sugar syrup\"},{\"unit\":\"cl\",\"amount\":6,\"ingredient\":\"Cream\"},{\"special\":\"1 Egg white\"},{\"special\":\"3 dashes Orange flower water\"},{\"special\":\"2 drops Vanilla extract\"},{\"special\":\"Soda water\"}],\"preparation\":\"Pour all ingredients (except soda) in a mixing glass, dry shake (no ice) for two minutes, add ice and hard shake for another minute. Strain into a highball glass without ice, top with soda.\"},{\"name\":\"Russian Spring Punch\",\"glass\":\"highball\",\"category\":\"Sparkling Cocktail\",\"ingredients\":[{\"unit\":\"cl\",\"amount\":2.5,\"ingredient\":\"Vodka\"},{\"unit\":\"cl\",\"amount\":2.5,\"ingredient\":\"Lemon juice\"},{\"unit\":\"cl\",\"amount\":1.5,\"ingredient\":\"Créme liqueur\",\"label\":\"Créme de Cassis\"},{\"unit\":\"cl\",\"amount\":1,\"ingredient\":\"Syrup\",\"label\":\"Sugar syrup\"}],\"garnish\":\"Lemon slice and a blackberry\",\"preparation\":\"Shake the ingredients and pour into highball glass. Top with Sparkling wine.\"},{\"name\":\"God Father\",\"glass\":\"old-fashioned\",\"ingredients\":[{\"unit\":\"cl\",\"amount\":3.5,\"ingredient\":\"Whiskey\",\"label\":\"Scotch whisky\"},{\"unit\":\"cl\",\"amount\":3.5,\"ingredient\":\"DiSaronno\"}],\"preparation\":\"Build into old fashioned glass filled with ice cubes. Stir gently.\"},{\"name\":\"Cosmopolitan\",\"glass\":\"martini\",\"category\":\"All Day Cocktail\",\"ingredients\":[{\"unit\":\"cl\",\"amount\":4,\"ingredient\":\"Vodka\",\"label\":\"Citron Vodka\"},{\"unit\":\"cl\",\"amount\":1.5,\"ingredient\":\"Triple Sec\",\"label\":\"Cointreau\"},{\"unit\":\"cl\",\"amount\":1.5,\"ingredient\":\"Lime juice\"},{\"unit\":\"cl\",\"amount\":3,\"ingredient\":\"Cranberry juice\"}],\"garnish\":\"Lime slice\",\"preparation\":\"Shake with ice cubes. Strain into a large cocktail glass.\"},{\"name\":\"Dry Martini\",\"glass\":\"martini\",\"category\":\"Before Dinner Cocktail\",\"ingredients\":[{\"unit\":\"cl\",\"amount\":6,\"ingredient\":\"Gin\"},{\"unit\":\"cl\",\"amount\":1,\"ingredient\":\"Vermouth\",\"label\":\"Dry vermouth\"}],\"preparation\":\"Stir in mixing glass with ice cubes. Strain into chilled martini glass. Squeeze oil from lemon peel onto the drink, or garnish with olive.\"},{\"name\":\"Between the Sheets\",\"glass\":\"martini\",\"category\":\"All Day Cocktail\",\"ingredients\":[{\"unit\":\"cl\",\"amount\":3,\"ingredient\":\"White rum\"},{\"unit\":\"cl\",\"amount\":3,\"ingredient\":\"Cognac\"},{\"unit\":\"cl\",\"amount\":3,\"ingredient\":\"Triple Sec\"},{\"unit\":\"cl\",\"amount\":2,\"ingredient\":\"Lemon juice\"}],\"preparation\":\"Shake with ice cubes. Strain into chilled cocktail glass.\"},{\"name\":\"Casino\",\"glass\":\"martini\",\"category\":\"All Day Cocktail\",\"ingredients\":[{\"unit\":\"cl\",\"amount\":4,\"ingredient\":\"Gin\",\"label\":\"Old Tom Gin\"},{\"unit\":\"cl\",\"amount\":1,\"ingredient\":\"Cherry liqueur\",\"label\":\"Maraschino\"},{\"unit\":\"cl\",\"amount\":1,\"ingredient\":\"Orange Bitters\"},{\"unit\":\"cl\",\"amount\":1,\"ingredient\":\"Lemon juice\"}],\"garnish\":\"Lemon twist and a cherry\",\"preparation\":\"Shake with ice cubes. Strain into chilled cocktail glass.\"},{\"name\":\"Caipirinha\",\"glass\":\"old-fashioned\",\"category\":\"All Day Cocktail\",\"ingredients\":[{\"unit\":\"cl\",\"amount\":5,\"ingredient\":\"Cachaca\"},{\"special\":\"half fresh lime cut into 4 wedges\"},{\"special\":\"2 teaspoon sugar\"}],\"preparation\":\"Place lime and sugar in old fashion glass and muddle. Fill glass with ice and Cachaca (note:Caipiroska- use Vodka instead of Cachaca).\"},{\"name\":\"Vampiro\",\"glass\":\"highball\",\"ingredients\":[{\"unit\":\"cl\",\"amount\":5,\"ingredient\":\"Tequila\",\"label\":\"Silver Tequila\"},{\"unit\":\"cl\",\"amount\":7,\"ingredient\":\"Tomato juice\"},{\"unit\":\"cl\",\"amount\":3,\"ingredient\":\"Orange juice\"},{\"unit\":\"cl\",\"amount\":1,\"ingredient\":\"Lime juice\"},{\"special\":\"1 teaspoon clear honey\"},{\"special\":\"Half slice onion finely chopped\"},{\"special\":\"Few slices fresh red hot chili peppers\"},{\"special\":\"Few drops Worcestershire sauce\"},{\"special\":\"Salt\"}],\"garnish\":\"Lime wedge and a green or red chili\",\"preparation\":\"Shake with ice cubes. Strain into a highball glass, filled with ice.\"},{\"name\":\"Kamikaze\",\"glass\":\"martini\",\"category\":\"All Day Cocktail\",\"ingredients\":[{\"unit\":\"cl\",\"amount\":3,\"ingredient\":\"Vodka\"},{\"unit\":\"cl\",\"amount\":3,\"ingredient\":\"Triple Sec\"},{\"unit\":\"cl\",\"amount\":3,\"ingredient\":\"Lime juice\"}],\"preparation\":\"Shake and strain into a chilled cocktail glass.\"},{\"name\":\"White Lady\",\"glass\":\"martini\",\"category\":\"All Day Cocktail\",\"ingredients\":[{\"unit\":\"cl\",\"amount\":4,\"ingredient\":\"Gin\"},{\"unit\":\"cl\",\"amount\":3,\"ingredient\":\"Triple Sec\"},{\"unit\":\"cl\",\"amount\":2,\"ingredient\":\"Lemon juice\"}],\"preparation\":\"Shake with ice cubes. Strain into large cocktail glass.\"},{\"name\":\"Harvey Wallbanger\",\"glass\":\"highball\",\"category\":\"All Day Cocktail\",\"ingredients\":[{\"unit\":\"cl\",\"amount\":4.5,\"ingredient\":\"Vodka\"},{\"unit\":\"cl\",\"amount\":1.5,\"ingredient\":\"Galliano\"},{\"unit\":\"cl\",\"amount\":9,\"ingredient\":\"Orange juice\"}],\"garnish\":\"Orance slice and a cherry\",\"preparation\":\"Build vodka and orange juice into a highball glass filled with ice. Stir gently and float Galliano on top.\"}]"
   ]
  },
  {
   "cell_type": "code",
   "execution_count": null,
   "id": "0baac0d1",
   "metadata": {},
   "outputs": [],
   "source": [
    "null = None\n",
    "ingredient_data = {\"Absinthe\":{\"abv\":40,\"taste\":null},\"Aperol\":{\"abv\":11,\"taste\":\"bitter\"},\"Apricot brandy\":{\"abv\":40,\"taste\":null},\"Blackberry liqueur\":{\"abv\":40,\"taste\":null},\"Cachaca\":{\"abv\":40,\"taste\":null},\"Calvados\":{\"abv\":40,\"taste\":null},\"Campari\":{\"abv\":25,\"taste\":null},\"Champagne\":{\"abv\":12,\"taste\":null},\"Cherry liqueur\":{\"abv\":30,\"taste\":null},\"Coconut milk\":{\"abv\":0,\"taste\":\"sweet\"},\"Coffee liqueur\":{\"abv\":20,\"taste\":\"bitter\"},\"Cognac\":{\"abv\":40,\"taste\":null},\"Cola\":{\"abv\":0,\"taste\":\"bitter\"},\"Cranberry juice\":{\"abv\":0,\"taste\":\"sour\"},\"Cream\":{\"abv\":0,\"taste\":\"sweet\"},\"Cream liqueur\":{\"abv\":20,\"taste\":null},\"Créme liqueur\":{\"abv\":20,\"taste\":null},\"Dark rum\":{\"abv\":40,\"taste\":null},\"DiSaronno\":{\"abv\":28,\"taste\":null},\"DOM Bénédictine\":{\"abv\":40,\"taste\":null},\"Drambuie\":{\"abv\":40,\"taste\":null},\"Dry White Wine\":{\"abv\":12,\"taste\":null},\"Egg yolk\":{\"abv\":0,\"taste\":null},\"Galliano\":{\"abv\":30,\"taste\":\"sweet\"},\"Gin\":{\"abv\":40,\"taste\":null},\"Ginger Ale\":{\"abv\":0,\"taste\":null},\"Ginger beer\":{\"abv\":5,\"taste\":\"sweet\"},\"Grapefruit juice\":{\"abv\":0,\"taste\":\"sour\"},\"Hot coffee\":{\"abv\":0,\"taste\":\"bitter\"},\"Kirsch\":{\"abv\":40,\"taste\":null},\"Lemon juice\":{\"abv\":0,\"taste\":\"sour\"},\"Lillet Blonde\":{\"abv\":15,\"taste\":null},\"Lime juice\":{\"abv\":0,\"taste\":\"sour\"},\"Olive juice\":{\"abv\":0,\"taste\":\"sour\"},\"Orange Bitters\":{\"abv\":40,\"taste\":null},\"Orange juice\":{\"abv\":0,\"taste\":\"sweet\"},\"Peach puree\":{\"abv\":0,\"taste\":\"sweet\"},\"Peach schnapps\":{\"abv\":40,\"taste\":\"sweet\"},\"Pineapple juice\":{\"abv\":0,\"taste\":\"sweet\"},\"Pisco\":{\"abv\":40,\"taste\":null},\"Prosecco\":{\"abv\":12,\"taste\":null},\"Raspberry liqueur\":{\"abv\":20,\"taste\":\"sweet\"},\"Red Port\":{\"abv\":20,\"taste\":null},\"Soda water\":{\"abv\":0,\"taste\":null},\"Syrup\":{\"abv\":0,\"taste\":\"sweet\"},\"Tequila\":{\"abv\":40,\"taste\":null},\"Tomato juice\":{\"abv\":0,\"taste\":\"salty\"},\"Triple Sec\":{\"abv\":40,\"taste\":\"sweet\"},\"Vermouth\":{\"abv\":17,\"taste\":null},\"Vodka\":{\"abv\":40,\"taste\":null},\"Whiskey\":{\"abv\":40,\"taste\":null},\"White rum\":{\"abv\":40,\"taste\":null}}"
   ]
  },
  {
   "cell_type": "markdown",
   "id": "df95c533",
   "metadata": {},
   "source": [
    "## Data Wrangling"
   ]
  },
  {
   "cell_type": "code",
   "execution_count": null,
   "id": "9c6d2103",
   "metadata": {},
   "outputs": [],
   "source": [
    "recipe_data = sorted(recipe_data, key=lambda x: x['name'])\n",
    "\n",
    "recipe_labels = []\n",
    "for k in recipe_data:\n",
    "    recipe_labels.append(k['name'])\n",
    "\n",
    "recipe_label_dict = {v:i for i,v in enumerate(recipe_labels)}\n",
    "recipe_labels = np.array(recipe_labels)"
   ]
  },
  {
   "cell_type": "code",
   "execution_count": null,
   "id": "45837acf",
   "metadata": {},
   "outputs": [],
   "source": [
    "ingredient_labels = []\n",
    "ingredient_alcohol = []\n",
    "for k,v in sorted(ingredient_data.items()):\n",
    "    if v['abv'] >= 0:\n",
    "        ingredient_labels.append(k)\n",
    "        ingredient_alcohol.append(v['abv']/100)\n",
    "\n",
    "ingredient_label_dict = {v:i for i,v in enumerate(ingredient_labels)}\n",
    "ingredient_labels = np.array(ingredient_labels)\n",
    "ingredient_alcohol = np.array(ingredient_alcohol)"
   ]
  },
  {
   "cell_type": "code",
   "execution_count": null,
   "id": "2549ac36",
   "metadata": {},
   "outputs": [],
   "source": [
    "ingredient_labels.shape"
   ]
  },
  {
   "cell_type": "markdown",
   "id": "8751121c",
   "metadata": {},
   "source": [
    "### Vectorizing"
   ]
  },
  {
   "cell_type": "code",
   "execution_count": null,
   "id": "ccc8852a",
   "metadata": {},
   "outputs": [],
   "source": [
    "from sklearn.feature_extraction import DictVectorizer\n",
    "\n",
    "recipe_data_formatted = [\n",
    "    {\n",
    "        ingredient['ingredient']:ingredient['amount'] \n",
    "        for ingredient in recipe['ingredients'] \n",
    "        if 'amount' in ingredient and ingredient['ingredient'] in ingredient_label_dict\n",
    "    } \n",
    "    for recipe in recipe_data\n",
    "]"
   ]
  },
  {
   "cell_type": "code",
   "execution_count": null,
   "id": "fe16b803",
   "metadata": {},
   "outputs": [],
   "source": [
    "recipe_vectorizer = DictVectorizer()\n",
    "recipe_vectors = recipe_vectorizer.fit_transform(recipe_data_formatted)\n",
    "recipe_vectors = np.asarray(recipe_vectors.todense())\n",
    "recipe_vectors.shape"
   ]
  },
  {
   "cell_type": "code",
   "execution_count": null,
   "id": "31609a54",
   "metadata": {},
   "outputs": [],
   "source": [
    "recipe_vectors"
   ]
  },
  {
   "cell_type": "code",
   "execution_count": null,
   "id": "23c7cb40",
   "metadata": {},
   "outputs": [],
   "source": [
    "recipe_vectorizer.get_feature_names_out()"
   ]
  },
  {
   "cell_type": "code",
   "execution_count": null,
   "id": "4f0314d6",
   "metadata": {},
   "outputs": [],
   "source": []
  },
  {
   "cell_type": "code",
   "execution_count": null,
   "id": "f0e34352",
   "metadata": {},
   "outputs": [],
   "source": [
    "usage_sort = np.argsort((recipe_vectors > 0).sum(axis=0))[::-1]\n",
    "ingredient_labels[usage_sort][ingredient_alcohol[usage_sort] >= 0.4]"
   ]
  },
  {
   "cell_type": "code",
   "execution_count": null,
   "id": "06b7a9e0",
   "metadata": {},
   "outputs": [],
   "source": [
    "from sklearn.preprocessing import normalize"
   ]
  },
  {
   "cell_type": "code",
   "execution_count": null,
   "id": "8b29d174",
   "metadata": {},
   "outputs": [],
   "source": [
    "recipe_volumes = recipe_vectors.sum(axis=1)\n",
    "\n",
    "recipe_vectors = normalize(recipe_vectors, norm='l1')"
   ]
  },
  {
   "cell_type": "code",
   "execution_count": null,
   "id": "4a403c89",
   "metadata": {},
   "outputs": [],
   "source": [
    "df = pd.DataFrame({\n",
    "    'drink': recipe_labels,\n",
    "    'volume': recipe_volumes,\n",
    "    'alcohol': recipe_vectors.dot(ingredient_alcohol) * recipe_volumes,\n",
    "    'normalized_alcohol': recipe_vectors.dot(ingredient_alcohol) \n",
    "})\n",
    "df.sort_values('normalized_alcohol', ascending=False).head(30)\n",
    "#df"
   ]
  },
  {
   "cell_type": "code",
   "execution_count": null,
   "id": "9bed21b0",
   "metadata": {},
   "outputs": [],
   "source": []
  },
  {
   "cell_type": "markdown",
   "id": "dbe25b64",
   "metadata": {},
   "source": [
    "## Spacial Distance"
   ]
  },
  {
   "cell_type": "code",
   "execution_count": null,
   "id": "da83e159",
   "metadata": {},
   "outputs": [],
   "source": [
    "from scipy import spatial\n",
    "recipe_distances = spatial.distance.pdist(recipe_vectors, metric='cityblock')\n",
    "recipe_distances = spatial.distance.squareform(recipe_distances)\n",
    "recipe_distances"
   ]
  },
  {
   "cell_type": "code",
   "execution_count": null,
   "id": "5e8bcf37",
   "metadata": {},
   "outputs": [],
   "source": [
    "from matplotlib import pyplot as plt \n",
    "plt.rcParams['figure.figsize'] = [20, 20]"
   ]
  },
  {
   "cell_type": "code",
   "execution_count": null,
   "id": "704292ac",
   "metadata": {},
   "outputs": [],
   "source": [
    "fig = plt.figure()\n",
    "ax = fig.add_subplot(111)\n",
    "\n",
    "num = len(recipe_labels)\n",
    "\n",
    "cax = ax.matshow(recipe_distances[:num,:num], cmap=plt.cm.Blues)\n",
    "fig.colorbar(cax)\n",
    "\n",
    "#ax.set_xticklabels(['']+list(recipe_labels[:10]))\n",
    "#ax.set_yticklabels(['']+list(recipe_labels[:10]))\n",
    "\n",
    "xaxis = np.arange(num)\n",
    "ax.set_xticks(xaxis)\n",
    "ax.set_yticks(xaxis)\n",
    "ax.set_xticklabels(list(recipe_labels[:num]), rotation = 90)\n",
    "ax.set_yticklabels(list(recipe_labels[:num]))\n",
    "\n",
    "plt.show()"
   ]
  },
  {
   "cell_type": "code",
   "execution_count": null,
   "id": "0fa84bbf",
   "metadata": {},
   "outputs": [],
   "source": [
    "# all recipes sorted in order of similarity\n",
    "recipe_dists = recipe_distances[:,recipe_label_dict['Negroni']]\n",
    "list(zip(\n",
    "recipe_labels[np.argsort(recipe_dists)],\n",
    "(2.0-recipe_dists[np.argsort(recipe_dists)])/2\n",
    "))"
   ]
  },
  {
   "cell_type": "code",
   "execution_count": null,
   "id": "31a7fc6d",
   "metadata": {},
   "outputs": [],
   "source": [
    "shared_ingredients = (recipe_vectors > 0).astype(int).T.dot(recipe_vectors > 0)\n",
    "ingredient_labels[np.argsort(shared_ingredients[ingredient_label_dict['Cola']])[::-1]]"
   ]
  },
  {
   "cell_type": "markdown",
   "id": "b5f7c073",
   "metadata": {},
   "source": [
    "## Data Formatting and Dumping"
   ]
  },
  {
   "cell_type": "code",
   "execution_count": null,
   "id": "9e954d91",
   "metadata": {},
   "outputs": [],
   "source": [
    "import json"
   ]
  },
  {
   "cell_type": "code",
   "execution_count": null,
   "id": "1e2242a3",
   "metadata": {},
   "outputs": [],
   "source": [
    "recipe_dump = [\n",
    "    {\n",
    "        \"name\": recipe_name,\n",
    "        \"ingredients\":\n",
    "            [\n",
    "                {\n",
    "                    \"name\": ingredient,\n",
    "                    \"amount\": amount\n",
    "                }\n",
    "                for ingredient, amount in zip(ingredient_labels, recipe_vectors[i,:])\n",
    "                if amount > 0\n",
    "            ],\n",
    "        \"special_ingredients\":\n",
    "            [\n",
    "                ingredient[\"special\"]\n",
    "                for ingredient in recipe_data[i][\"ingredients\"] if \"special\" in ingredient\n",
    "            ],\n",
    "        \"volume\": recipe_volumes[i],\n",
    "        \"garnish\": recipe_data[i].get(\"garnish\"),\n",
    "        \"glass\": recipe_data[i][\"glass\"],\n",
    "        \"preparation\": recipe_data[i][\"preparation\"],\n",
    "        \"image_url\": img_urls[i],\n",
    "        \"insights\":\n",
    "            {\n",
    "                \"abv\": df['normalized_alcohol'].iloc[i],\n",
    "                \"primary_alcohol\": ingredient_labels[np.argmax(ingredient_alcohol*recipe_vectors[i,:])],\n",
    "                \"similar_recipes\": sorted(\n",
    "                    [\n",
    "                        {\n",
    "                            \"name\": recipe,\n",
    "                            \"similarity\": (2.0-distance)/2\n",
    "                        }\n",
    "                        for recipe,distance in zip(recipe_labels, recipe_distances[i,:])\n",
    "                        if distance < 2.0-0.01 and recipe != recipe_name\n",
    "                    ], key=lambda recipe: recipe['similarity'], reverse=True)\n",
    "            }\n",
    "    }\n",
    "    for i,recipe_name in enumerate(recipe_labels)\n",
    "]"
   ]
  },
  {
   "cell_type": "code",
   "execution_count": null,
   "id": "8b6fe157",
   "metadata": {},
   "outputs": [],
   "source": [
    "ingredients_dump = [\n",
    "    {\n",
    "        \"name\": ingredient_name,\n",
    "        \"abv\": ingredient_alcohol[i],\n",
    "        \"image_url\": ingre_img_urls[i],\n",
    "        \"insights\":\n",
    "            {\n",
    "                \"recipe_usage\": sorted(\n",
    "                    [\n",
    "                        {\n",
    "                            \"name\": recipe,\n",
    "                            \"amount\": amount\n",
    "                        }\n",
    "                        for recipe, amount in zip(recipe_labels, recipe_vectors[:,i])\n",
    "                        if amount > 0\n",
    "                    ], key=lambda recipe: recipe['amount'], reverse=True),\n",
    "                \"paired_ingredients\": sorted(\n",
    "                    [\n",
    "                        {\n",
    "                            \"name\": name,\n",
    "                            \"number_recipes\": int(number_recipes)\n",
    "                        }\n",
    "                        for name, number_recipes in zip(ingredient_labels, shared_ingredients[:,i])\n",
    "                        if name != ingredient_name and number_recipes > 0\n",
    "                    ], key=lambda ingredient: ingredient['number_recipes'], reverse=True)\n",
    "            }\n",
    "    }\n",
    "    for i,ingredient_name in enumerate(ingredient_labels)\n",
    "]"
   ]
  },
  {
   "cell_type": "code",
   "execution_count": null,
   "id": "f1b08937",
   "metadata": {},
   "outputs": [],
   "source": [
    "print(json.dumps(ingredients_dump, indent=4))"
   ]
  },
  {
   "cell_type": "code",
   "execution_count": null,
   "id": "7a23cbce",
   "metadata": {},
   "outputs": [],
   "source": [
    "with open('cocktail-insights.json', 'w') as f:\n",
    "    json.dump({'recipes': recipe_dump, 'ingredients': ingredients_dump}, f, indent=4)"
   ]
  },
  {
   "cell_type": "code",
   "execution_count": null,
   "id": "2170fc77",
   "metadata": {},
   "outputs": [],
   "source": [
    "recipe_data[6]['preparation'] = \"Shake pour ingredients with ice. Strain into glass, top with sparkling wine.\""
   ]
  },
  {
   "cell_type": "code",
   "execution_count": null,
   "id": "e982eb7e",
   "metadata": {},
   "outputs": [],
   "source": [
    "# url scrape\n",
    "import requests\n",
    "search_url = \"https://www.thecocktaildb.com/api/json/v1/1/search.php\"\n",
    "#https://iba-world.com/wp-content/uploads/2021/02/IBA-TU-01-Alexander.jpg\n",
    "\n",
    "img_urls = []\n",
    "for recipe_label in recipe_labels:\n",
    "    if recipe_label == 'B52':\n",
    "        recipe_label = \"B-52\"\n",
    "    if recipe_label == \"Dark 'n' Stormy\":\n",
    "        recipe_label = \"Dark and Stormy\"\n",
    "    if recipe_label == \"God Father\":\n",
    "        recipe_label = \"Godfather\"\n",
    "    if recipe_label == \"God Mother\":\n",
    "        recipe_label = \"Godmother\"\n",
    "    if recipe_label == \"Lemon Drop Martini\":\n",
    "        recipe_label = \"Lemon Drop\"\n",
    "    if recipe_label == \"Mai-tai\":\n",
    "        recipe_label = \"Mai Tai\"\n",
    "    if recipe_label == \"Ramos Fizz\":\n",
    "        recipe_label = \"Royal Gin Fizz\"\n",
    "    r = requests.get(search_url, params={'s': recipe_label})\n",
    "    result = r.json()\n",
    "    print(recipe_label)\n",
    "    img_urls.append(result[\"drinks\"][0]['strDrinkThumb'])"
   ]
  },
  {
   "cell_type": "code",
   "execution_count": null,
   "id": "bb730d91",
   "metadata": {},
   "outputs": [],
   "source": [
    "# url scrape \n",
    "import requests\n",
    "search_url = \"https://www.thecocktaildb.com/api/json/v1/1/search.php\"\n",
    "#https://iba-world.com/wp-content/uploads/2021/02/IBA-TU-01-Alexander.jpg\n",
    "\n",
    "ingre_img_urls = []\n",
    "for ingredien_label in ingredient_labels:\n",
    "    if ingredien_label == \"Blackberry liqueur\":\n",
    "        ingre_img_urls.append(\"https://www.thecocktaildb.com/images/ingredients/Creme%20de%20Mure-Small.png\")\n",
    "        continue\n",
    "    if ingredien_label == \"Cream liqueur\":\n",
    "        ingre_img_urls.append(\"https://www.thecocktaildb.com/images/ingredients/Baileys%20Irish%20Cream-Small.png\")\n",
    "        continue\n",
    "    if ingredien_label == \"Créme liqueur\": #creme de cassis, creme de cacao, and creme de menthe\n",
    "        ingre_img_urls.append(\"https://www.thecocktaildb.com/images/ingredients/Creme%20De%20Cacao-Small.png\")\n",
    "        continue\n",
    "    if ingredien_label == \"DOM Bénédictine\":\n",
    "        ingre_img_urls.append(\"https://www.thecocktaildb.com/images/ingredients/Cherry%20Brandy-Small.png\")\n",
    "        continue\n",
    "    if ingredien_label == \"DiSaronno\":\n",
    "        ingre_img_urls.append(\"https://www.thecocktaildb.com/images/ingredients/Amaretto-Small.png\")\n",
    "        continue \n",
    "    if ingredien_label == \"Dry White Wine\": # it is just white wine\n",
    "        ingre_img_urls.append(\"https://www.thecocktaildb.com/images/ingredients/Champagne-Small.png\")\n",
    "        continue \n",
    "    if ingredien_label == \"Hot coffee\":\n",
    "        ingre_img_urls.append(\"https://www.thecocktaildb.com/images/ingredients/Coffee-Small.png\")\n",
    "        continue \n",
    "    if ingredien_label == \"Lillet Blonde\": # it is blanc\n",
    "        ingre_img_urls.append(\"https://www.thecocktaildb.com/images/ingredients/Lillet%20Blanc-Small.png\")\n",
    "        continue \n",
    "    if ingredien_label == \"Olive juice\":\n",
    "        ingre_img_urls.append(\"https://www.thecocktaildb.com/images/ingredients/Olive%20Brine-Small.png\")\n",
    "        continue \n",
    "    if ingredien_label == \"Peach puree\":\n",
    "        ingre_img_urls.append(\"https://www.thecocktaildb.com/images/ingredients/Peach-Small.png\")\n",
    "        continue \n",
    "    if ingredien_label == \"Red Port\":\n",
    "        ingre_img_urls.append(\"https://www.thecocktaildb.com/images/ingredients/Port-Small.png\")\n",
    "        continue \n",
    "    if ingredien_label == \"Syrup\": # grenadine\n",
    "        ingre_img_urls.append(\"https://www.thecocktaildb.com/images/ingredients/Sugar%20Syrup.png\")\n",
    "        continue \n",
    "        \n",
    "        \n",
    "    r = requests.get(search_url, params={'i': ingredien_label})\n",
    "    result = r.json()\n",
    "    print(ingredien_label)\n",
    "    ingre_img_urls.append(f\"www.thecocktaildb.com/images/ingredients/{result['ingredients'][0]['strIngredient']}-Small.png\")"
   ]
  },
  {
   "cell_type": "code",
   "execution_count": null,
   "id": "aa198764",
   "metadata": {},
   "outputs": [],
   "source": [
    "recipe_labels[recipe_vectors[:,ingredient_label_dict['Syrup']] > 0]"
   ]
  },
  {
   "cell_type": "code",
   "execution_count": null,
   "id": "8c86eca7",
   "metadata": {},
   "outputs": [],
   "source": [
    "ingredient_labels"
   ]
  },
  {
   "cell_type": "markdown",
   "id": "8332d9d6",
   "metadata": {},
   "source": [
    "## PCA"
   ]
  },
  {
   "cell_type": "code",
   "execution_count": null,
   "id": "b6e99a09",
   "metadata": {},
   "outputs": [],
   "source": [
    "from sklearn.decomposition import PCA"
   ]
  },
  {
   "cell_type": "code",
   "execution_count": null,
   "id": "2439ef6f",
   "metadata": {},
   "outputs": [],
   "source": [
    "n_components = 2\n",
    "pca = PCA(n_components=n_components)\n",
    "recipe_vectors_2D = pca.fit_transform(recipe_vectors)"
   ]
  },
  {
   "cell_type": "code",
   "execution_count": null,
   "id": "a966823f",
   "metadata": {},
   "outputs": [],
   "source": [
    "for i in range(n_components):\n",
    "    print(pca.components_[i, np.argsort(pca.components_[i,:])])"
   ]
  },
  {
   "cell_type": "code",
   "execution_count": null,
   "id": "06f6b45a",
   "metadata": {},
   "outputs": [],
   "source": [
    "ingredient_labels[np.argsort(pca.components_)]"
   ]
  },
  {
   "cell_type": "code",
   "execution_count": null,
   "id": "c370658e",
   "metadata": {},
   "outputs": [],
   "source": [
    "fig = plt.figure()\n",
    "ax = fig.add_subplot(111)\n",
    "\n",
    "cax = ax.scatter(recipe_vectors_2D[:,0], recipe_vectors_2D[:,1])\n",
    "\n",
    "plt.show()"
   ]
  },
  {
   "cell_type": "code",
   "execution_count": null,
   "id": "e45f5476",
   "metadata": {},
   "outputs": [],
   "source": [
    "fig = plt.figure()\n",
    "ax = fig.add_subplot(projection='3d')\n",
    "ax.scatter(recipe_vectors_2D[:,0], recipe_vectors_2D[:,1], recipe_vectors_2D[:,2])\n",
    "plt.show()"
   ]
  },
  {
   "cell_type": "code",
   "execution_count": null,
   "id": "4b14e396",
   "metadata": {},
   "outputs": [],
   "source": []
  },
  {
   "cell_type": "code",
   "execution_count": null,
   "id": "40e8a645",
   "metadata": {},
   "outputs": [],
   "source": []
  },
  {
   "cell_type": "code",
   "execution_count": null,
   "id": "f23822c4",
   "metadata": {},
   "outputs": [],
   "source": [
    "recipe_vectors_2D[recipe_label_dict['Manhattan']]"
   ]
  },
  {
   "cell_type": "markdown",
   "id": "5a65f229",
   "metadata": {},
   "source": [
    "## Clustering"
   ]
  },
  {
   "cell_type": "code",
   "execution_count": null,
   "id": "1e285361",
   "metadata": {},
   "outputs": [],
   "source": [
    "from sklearn.cluster import KMeans\n",
    "from sklearn.cluster import MeanShift\n",
    "from sklearn.cluster import DBSCAN\n",
    "from sklearn.cluster import SpectralClustering"
   ]
  },
  {
   "cell_type": "code",
   "execution_count": null,
   "id": "34a159ce",
   "metadata": {},
   "outputs": [],
   "source": [
    "kmeans = KMeans(n_clusters=5)\n",
    "clusters = kmeans.fit_predict(recipe_vectors)"
   ]
  },
  {
   "cell_type": "code",
   "execution_count": null,
   "id": "b8941d45",
   "metadata": {},
   "outputs": [],
   "source": [
    "meanshift = MeanShift()\n",
    "clusters = meanshift.fit_predict(recipe_vectors)"
   ]
  },
  {
   "cell_type": "code",
   "execution_count": null,
   "id": "21d0fec3",
   "metadata": {},
   "outputs": [],
   "source": [
    "spectralclustering = SpectralClustering()\n",
    "clusters = spectralclustering.fit_predict(recipe_vectors)"
   ]
  },
  {
   "cell_type": "code",
   "execution_count": null,
   "id": "bef1a93b",
   "metadata": {},
   "outputs": [],
   "source": [
    "dbscan = DBSCAN()\n",
    "clusters = dbscan.fit_predict(recipe_vectors)"
   ]
  },
  {
   "cell_type": "code",
   "execution_count": null,
   "id": "2d8aad78",
   "metadata": {},
   "outputs": [],
   "source": [
    "ingredient_labels[np.argsort(-kmeans.cluster_centers_)][:,:5]"
   ]
  },
  {
   "cell_type": "code",
   "execution_count": null,
   "id": "482eb4df",
   "metadata": {},
   "outputs": [],
   "source": [
    "kmeans.transform( recipe_vectors[recipe_label_dict['Negroni'],:].reshape(1, -1) )"
   ]
  },
  {
   "cell_type": "code",
   "execution_count": null,
   "id": "964ad1e1",
   "metadata": {},
   "outputs": [],
   "source": []
  },
  {
   "cell_type": "code",
   "execution_count": null,
   "id": "51bb4f73",
   "metadata": {},
   "outputs": [],
   "source": [
    "recipe_labels[np.argsort(kmeans.transform(recipe_vectors).T)][:,:5]"
   ]
  },
  {
   "cell_type": "code",
   "execution_count": null,
   "id": "80f6c41b",
   "metadata": {},
   "outputs": [],
   "source": [
    "pca_centroids = pca.transform(kmeans.cluster_centers_)\n",
    "\n",
    "colors = cm.rainbow(np.linspace(0, 1, clusters.max()+1))\n",
    "fig = plt.figure()\n",
    "ax = fig.add_subplot(111)\n",
    "cax = ax.scatter(recipe_vectors_2D[:,0], recipe_vectors_2D[:,1], color = colors[clusters,:])\n",
    "\n",
    "print(colors)\n",
    "\n",
    "plt.show()"
   ]
  },
  {
   "cell_type": "code",
   "execution_count": null,
   "id": "c136393e",
   "metadata": {},
   "outputs": [],
   "source": []
  },
  {
   "cell_type": "code",
   "execution_count": null,
   "id": "d6aca4b9",
   "metadata": {},
   "outputs": [],
   "source": []
  },
  {
   "cell_type": "code",
   "execution_count": null,
   "id": "2b1dc0cd",
   "metadata": {},
   "outputs": [],
   "source": [
    "np.argsort(kmeans.transform(np.asarray(recipe_vectors.todense())).T)"
   ]
  },
  {
   "cell_type": "code",
   "execution_count": null,
   "id": "9ebb4c8b",
   "metadata": {},
   "outputs": [],
   "source": []
  },
  {
   "cell_type": "code",
   "execution_count": null,
   "id": "3f40a535",
   "metadata": {},
   "outputs": [],
   "source": []
  },
  {
   "cell_type": "markdown",
   "id": "357e4e9c",
   "metadata": {},
   "source": [
    "## Ingredient Suggestion"
   ]
  },
  {
   "cell_type": "markdown",
   "id": "5cc27963",
   "metadata": {},
   "source": [
    "The problem we'd like to solve is, given a set of owned ingredients, which new ingredients should be obtained to be able to make the most amount of drinks?\n",
    "Seems similar to the NP-complete \"Maximum Coverage Problem\", but more like the inverse: we need to pick elements to get the most number of complete sets.\n",
    "\n",
    "https://en.wikipedia.org/wiki/Maximum_coverage_problem  \n",
    "\n",
    "### Formal Definition\n",
    "Let's try to set up the 0-1 ILP problem:\n",
    "\n",
    "$$\n",
    "\\max \\sum_{r \\in R} x_r\n",
    "$$\n",
    "\n",
    "Subject to:\n",
    "$$\\begin{align*}\n",
    "\\sum_{i \\in I} x_i \\le k && \\\\\n",
    "\\sum_{i \\in I_r} x_i \\ge | I_r | x_r && \\forall r \\in R \\\\\n",
    "x_i \\in \\mathbb{Z}_{2} && \\forall i \\in I \\\\\n",
    "x_r \\in \\mathbb{Z}_{2} && \\forall r \\in R \\\\\n",
    "\\end{align*}$$\n",
    "\n",
    "Where:\n",
    "- $k$ is the maximum number of new ingredients that can be obtained.\n",
    "- $R$ is the set of all recipes.\n",
    "- $I$ is the set of all ingredients.\n",
    "- $I_r$ is the set of ingredients for recipe $r$.\n",
    "- $x_i$ is the boolean variable indicating inclusion of ingredient $i$.\n",
    "- $x_r$ is the boolean variable indicating ability to create recipe $r$.\n",
    "- $| I_r |$ is the magnitude of the set of ingredients for recipe $r$ (i.e. the number of ingredients in recipe $r$)."
   ]
  },
  {
   "cell_type": "code",
   "execution_count": null,
   "id": "db4b3d11",
   "metadata": {},
   "outputs": [],
   "source": [
    "k = 4"
   ]
  },
  {
   "cell_type": "code",
   "execution_count": null,
   "id": "f89dc60e",
   "metadata": {},
   "outputs": [],
   "source": [
    "owned_ingredients = [\"Gin\", \"Vermouth\", \"Campari\"]\n",
    "owned_ingredients_vector = np.zeros_like(ingredient_labels, dtype=bool)\n",
    "owned_ingredients_vector[[ingredient_label_dict[ingredient] for ingredient in owned_ingredients]] = True\n",
    "owned_ingredients_vector"
   ]
  },
  {
   "cell_type": "code",
   "execution_count": null,
   "id": "525aed85",
   "metadata": {},
   "outputs": [],
   "source": [
    "recipe_vectors_bool = (recipe_vectors > 0)\n",
    "recipe_required_vectors_bool = recipe_vectors_bool & ~owned_ingredients_vector\n",
    "recipe_required_vectors_bool"
   ]
  },
  {
   "cell_type": "code",
   "execution_count": null,
   "id": "681d59b8",
   "metadata": {},
   "outputs": [],
   "source": [
    "recipe_too_far_filter = recipe_required_vectors_bool.sum(axis=1) <= k\n",
    "filtered_recipe_labels = recipe_labels[recipe_too_far_filter]\n",
    "filtered_recipe_required_vectors_bool = recipe_required_vectors_bool[recipe_too_far_filter,:]\n",
    "ingredient_remaining_filter = filtered_recipe_required_vectors_bool.sum(axis=0) > 0\n",
    "filtered_ingredient_labels = ingredient_labels[ingredient_remaining_filter]\n",
    "filtered_recipe_remaining_vectors_bool = filtered_recipe_required_vectors_bool[:,ingredient_remaining_filter]\n",
    "\n",
    "print(filtered_recipe_remaining_vectors_bool.shape)\n",
    "print(filtered_ingredient_labels)\n",
    "filtered_recipe_labels"
   ]
  },
  {
   "cell_type": "code",
   "execution_count": null,
   "id": "84b563d7",
   "metadata": {},
   "outputs": [],
   "source": [
    "max_made = 0\n",
    "max_ingredients = []\n",
    "\n",
    "import itertools\n",
    "\n",
    "for ingredients_choice in itertools.combinations(range(filtered_ingredient_labels.size), k):\n",
    "    ingredients_choice = list(ingredients_choice)\n",
    "    temp_ingredients_vector = np.zeros_like(filtered_ingredient_labels, dtype=bool)\n",
    "    temp_ingredients_vector[ingredients_choice] = True\n",
    "    recipe_remaining_ingredient_counts = (filtered_recipe_remaining_vectors_bool * ~temp_ingredients_vector).sum(axis=1)\n",
    "    recipe_completed = ~recipe_remaining_ingredient_counts.astype(bool)\n",
    "    recipe_completed_count = recipe_completed.sum()\n",
    "    if recipe_completed_count > max_made:\n",
    "        max_made = recipe_completed_count\n",
    "        max_ingredients = []\n",
    "    if recipe_completed_count == max_made:\n",
    "        ingredients_list = filtered_ingredient_labels[ingredients_choice].tolist()\n",
    "        recipe_list = filtered_recipe_labels[recipe_completed].tolist()\n",
    "        max_ingredients.append((ingredients_list, recipe_list))\n",
    "max_ingredients"
   ]
  },
  {
   "cell_type": "code",
   "execution_count": null,
   "id": "f31de094",
   "metadata": {},
   "outputs": [],
   "source": []
  },
  {
   "cell_type": "code",
   "execution_count": null,
   "id": "184d0896",
   "metadata": {},
   "outputs": [],
   "source": []
  },
  {
   "cell_type": "code",
   "execution_count": null,
   "id": "56043f98",
   "metadata": {},
   "outputs": [],
   "source": []
  }
 ],
 "metadata": {
  "kernelspec": {
   "display_name": "Python 3",
   "language": "python",
   "name": "python3"
  },
  "language_info": {
   "codemirror_mode": {
    "name": "ipython",
    "version": 3
   },
   "file_extension": ".py",
   "mimetype": "text/x-python",
   "name": "python",
   "nbconvert_exporter": "python",
   "pygments_lexer": "ipython3",
   "version": "3.9.1"
  }
 },
 "nbformat": 4,
 "nbformat_minor": 5
}
